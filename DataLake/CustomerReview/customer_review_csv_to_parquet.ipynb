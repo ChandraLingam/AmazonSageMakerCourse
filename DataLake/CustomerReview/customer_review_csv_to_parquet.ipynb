{
 "cells": [
  {
   "cell_type": "markdown",
   "metadata": {},
   "source": [
    "## Convert customer reviews to parquet format"
   ]
  },
  {
   "cell_type": "code",
   "execution_count": null,
   "metadata": {},
   "outputs": [],
   "source": [
    "## Install pyarrow package\n",
    "\n",
    "!pip install pyarrow"
   ]
  },
  {
   "cell_type": "code",
   "execution_count": 1,
   "metadata": {},
   "outputs": [],
   "source": [
    "import pandas as pd\n",
    "import pyarrow as pa\n",
    "import numpy as np\n",
    "import pyarrow.parquet as pq"
   ]
  },
  {
   "cell_type": "code",
   "execution_count": 14,
   "metadata": {},
   "outputs": [],
   "source": [
    "file_name = r\".\\data\\customer_reviews_with_sentiment_compressed.txt.gz\"\n",
    "parquet_file_name = r\".\\data\\customer_reviews_with_sentiment.parquet\"\n",
    "df = pd.read_csv(file_name, sep='\\t',on_bad_lines=\"skip\")"
   ]
  },
  {
   "cell_type": "code",
   "execution_count": 15,
   "metadata": {},
   "outputs": [
    {
     "data": {
      "text/html": [
       "<div>\n",
       "<style scoped>\n",
       "    .dataframe tbody tr th:only-of-type {\n",
       "        vertical-align: middle;\n",
       "    }\n",
       "\n",
       "    .dataframe tbody tr th {\n",
       "        vertical-align: top;\n",
       "    }\n",
       "\n",
       "    .dataframe thead th {\n",
       "        text-align: right;\n",
       "    }\n",
       "</style>\n",
       "<table border=\"1\" class=\"dataframe\">\n",
       "  <thead>\n",
       "    <tr style=\"text-align: right;\">\n",
       "      <th></th>\n",
       "      <th>marketplace</th>\n",
       "      <th>customer_id</th>\n",
       "      <th>review_id</th>\n",
       "      <th>product_id</th>\n",
       "      <th>product_parent</th>\n",
       "      <th>product_title</th>\n",
       "      <th>product_category</th>\n",
       "      <th>star_rating</th>\n",
       "      <th>helpful_votes</th>\n",
       "      <th>total_votes</th>\n",
       "      <th>vine</th>\n",
       "      <th>verified_purchase</th>\n",
       "      <th>review_headline</th>\n",
       "      <th>review_body</th>\n",
       "      <th>review_date</th>\n",
       "      <th>sentiment</th>\n",
       "    </tr>\n",
       "  </thead>\n",
       "  <tbody>\n",
       "    <tr>\n",
       "      <th>0</th>\n",
       "      <td>US</td>\n",
       "      <td>16199106</td>\n",
       "      <td>R203HPW78Z7N4K</td>\n",
       "      <td>B0067WNSZY</td>\n",
       "      <td>633038551</td>\n",
       "      <td>FGGF3032MW Gallery Series 30\" Wide Freestandin...</td>\n",
       "      <td>Major Appliances</td>\n",
       "      <td>5</td>\n",
       "      <td>0</td>\n",
       "      <td>0</td>\n",
       "      <td>N</td>\n",
       "      <td>Y</td>\n",
       "      <td>If you need a new stove, this is a winner.</td>\n",
       "      <td>What a great stove.  What a wonderful replacem...</td>\n",
       "      <td>2015-08-31</td>\n",
       "      <td>POSITIVE</td>\n",
       "    </tr>\n",
       "    <tr>\n",
       "      <th>1</th>\n",
       "      <td>US</td>\n",
       "      <td>16374060</td>\n",
       "      <td>R2EAIGVLEALSP3</td>\n",
       "      <td>B002QSXK60</td>\n",
       "      <td>811766671</td>\n",
       "      <td>Best Hand Clothes Wringer</td>\n",
       "      <td>Major Appliances</td>\n",
       "      <td>5</td>\n",
       "      <td>1</td>\n",
       "      <td>1</td>\n",
       "      <td>N</td>\n",
       "      <td>Y</td>\n",
       "      <td>Five Stars</td>\n",
       "      <td>worked great</td>\n",
       "      <td>2015-08-31</td>\n",
       "      <td>POSITIVE</td>\n",
       "    </tr>\n",
       "    <tr>\n",
       "      <th>2</th>\n",
       "      <td>US</td>\n",
       "      <td>15322085</td>\n",
       "      <td>R1K1CD73HHLILA</td>\n",
       "      <td>B00EC452R6</td>\n",
       "      <td>345562728</td>\n",
       "      <td>Supco SET184 Thermal Cutoff Kit</td>\n",
       "      <td>Major Appliances</td>\n",
       "      <td>5</td>\n",
       "      <td>0</td>\n",
       "      <td>0</td>\n",
       "      <td>N</td>\n",
       "      <td>Y</td>\n",
       "      <td>Fast Shipping</td>\n",
       "      <td>Part exactly what I needed.  Saved by purchasi...</td>\n",
       "      <td>2015-08-31</td>\n",
       "      <td>POSITIVE</td>\n",
       "    </tr>\n",
       "    <tr>\n",
       "      <th>3</th>\n",
       "      <td>US</td>\n",
       "      <td>32004835</td>\n",
       "      <td>R2KZBMOFRMYOPO</td>\n",
       "      <td>B00MVVIF2G</td>\n",
       "      <td>563052763</td>\n",
       "      <td>Midea WHS-160RB1 Compact Single Reversible Doo...</td>\n",
       "      <td>Major Appliances</td>\n",
       "      <td>5</td>\n",
       "      <td>1</td>\n",
       "      <td>1</td>\n",
       "      <td>N</td>\n",
       "      <td>Y</td>\n",
       "      <td>Five Stars</td>\n",
       "      <td>Love my refrigerator! ! Keeps everything  cold...</td>\n",
       "      <td>2015-08-31</td>\n",
       "      <td>POSITIVE</td>\n",
       "    </tr>\n",
       "    <tr>\n",
       "      <th>4</th>\n",
       "      <td>US</td>\n",
       "      <td>25414497</td>\n",
       "      <td>R6BIZOZY6UD01</td>\n",
       "      <td>B00IY7BNUW</td>\n",
       "      <td>874236579</td>\n",
       "      <td>Avalon Bay Portable Ice Maker</td>\n",
       "      <td>Major Appliances</td>\n",
       "      <td>5</td>\n",
       "      <td>0</td>\n",
       "      <td>0</td>\n",
       "      <td>N</td>\n",
       "      <td>Y</td>\n",
       "      <td>Five Stars</td>\n",
       "      <td>No more running to the store for ice!  Works p...</td>\n",
       "      <td>2015-08-31</td>\n",
       "      <td>POSITIVE</td>\n",
       "    </tr>\n",
       "  </tbody>\n",
       "</table>\n",
       "</div>"
      ],
      "text/plain": [
       "  marketplace  customer_id       review_id  product_id  product_parent  \\\n",
       "0          US     16199106  R203HPW78Z7N4K  B0067WNSZY       633038551   \n",
       "1          US     16374060  R2EAIGVLEALSP3  B002QSXK60       811766671   \n",
       "2          US     15322085  R1K1CD73HHLILA  B00EC452R6       345562728   \n",
       "3          US     32004835  R2KZBMOFRMYOPO  B00MVVIF2G       563052763   \n",
       "4          US     25414497   R6BIZOZY6UD01  B00IY7BNUW       874236579   \n",
       "\n",
       "                                       product_title  product_category  \\\n",
       "0  FGGF3032MW Gallery Series 30\" Wide Freestandin...  Major Appliances   \n",
       "1                          Best Hand Clothes Wringer  Major Appliances   \n",
       "2                    Supco SET184 Thermal Cutoff Kit  Major Appliances   \n",
       "3  Midea WHS-160RB1 Compact Single Reversible Doo...  Major Appliances   \n",
       "4                      Avalon Bay Portable Ice Maker  Major Appliances   \n",
       "\n",
       "   star_rating  helpful_votes  total_votes vine verified_purchase  \\\n",
       "0            5              0            0    N                 Y   \n",
       "1            5              1            1    N                 Y   \n",
       "2            5              0            0    N                 Y   \n",
       "3            5              1            1    N                 Y   \n",
       "4            5              0            0    N                 Y   \n",
       "\n",
       "                              review_headline  \\\n",
       "0  If you need a new stove, this is a winner.   \n",
       "1                                  Five Stars   \n",
       "2                               Fast Shipping   \n",
       "3                                  Five Stars   \n",
       "4                                  Five Stars   \n",
       "\n",
       "                                         review_body review_date sentiment  \n",
       "0  What a great stove.  What a wonderful replacem...  2015-08-31  POSITIVE  \n",
       "1                                       worked great  2015-08-31  POSITIVE  \n",
       "2  Part exactly what I needed.  Saved by purchasi...  2015-08-31  POSITIVE  \n",
       "3  Love my refrigerator! ! Keeps everything  cold...  2015-08-31  POSITIVE  \n",
       "4  No more running to the store for ice!  Works p...  2015-08-31  POSITIVE  "
      ]
     },
     "execution_count": 15,
     "metadata": {},
     "output_type": "execute_result"
    }
   ],
   "source": [
    "df.head()"
   ]
  },
  {
   "cell_type": "code",
   "execution_count": 16,
   "metadata": {},
   "outputs": [],
   "source": [
    "df['customer_id'] = df['customer_id'].astype('str')\n",
    "df['product_parent'] = df['product_parent'].astype('str')\n",
    "df['star_rating'] = df['star_rating'].astype('int')\n",
    "df['helpful_votes'] = df['helpful_votes'].astype('int')\n",
    "df['total_votes'] = df['total_votes'].astype('int')"
   ]
  },
  {
   "cell_type": "code",
   "execution_count": 17,
   "metadata": {},
   "outputs": [
    {
     "data": {
      "text/plain": [
       "marketplace          object\n",
       "customer_id          object\n",
       "review_id            object\n",
       "product_id           object\n",
       "product_parent       object\n",
       "product_title        object\n",
       "product_category     object\n",
       "star_rating           int32\n",
       "helpful_votes         int32\n",
       "total_votes           int32\n",
       "vine                 object\n",
       "verified_purchase    object\n",
       "review_headline      object\n",
       "review_body          object\n",
       "review_date          object\n",
       "sentiment            object\n",
       "dtype: object"
      ]
     },
     "execution_count": 17,
     "metadata": {},
     "output_type": "execute_result"
    }
   ],
   "source": [
    "df.dtypes"
   ]
  },
  {
   "cell_type": "code",
   "execution_count": 18,
   "metadata": {},
   "outputs": [
    {
     "data": {
      "text/plain": [
       "array(['POSITIVE', 'NEGATIVE', 'MIXED', 'NEUTRAL',\n",
       "       'InternalServerException'], dtype=object)"
      ]
     },
     "execution_count": 18,
     "metadata": {},
     "output_type": "execute_result"
    }
   ],
   "source": [
    "df['sentiment'].unique()"
   ]
  },
  {
   "cell_type": "code",
   "execution_count": 20,
   "metadata": {},
   "outputs": [],
   "source": [
    "# Deleting rows where 'sentiment' is 'InternalServerException'\n",
    "df = df.loc[df['sentiment'] != 'InternalServerException']"
   ]
  },
  {
   "cell_type": "code",
   "execution_count": 21,
   "metadata": {},
   "outputs": [
    {
     "data": {
      "text/plain": [
       "(96833, 16)"
      ]
     },
     "execution_count": 21,
     "metadata": {},
     "output_type": "execute_result"
    }
   ],
   "source": [
    "df.shape"
   ]
  },
  {
   "cell_type": "code",
   "execution_count": 22,
   "metadata": {},
   "outputs": [],
   "source": [
    "table = pa.Table.from_pandas(df)\n",
    "pq.write_table(table, parquet_file_name)"
   ]
  },
  {
   "cell_type": "code",
   "execution_count": 23,
   "metadata": {},
   "outputs": [],
   "source": [
    "# Read back to verify"
   ]
  },
  {
   "cell_type": "code",
   "execution_count": 24,
   "metadata": {},
   "outputs": [],
   "source": [
    "df = pd.read_parquet(parquet_file_name)"
   ]
  },
  {
   "cell_type": "code",
   "execution_count": 25,
   "metadata": {},
   "outputs": [
    {
     "data": {
      "text/plain": [
       "(96833, 16)"
      ]
     },
     "execution_count": 25,
     "metadata": {},
     "output_type": "execute_result"
    }
   ],
   "source": [
    "df.shape"
   ]
  },
  {
   "cell_type": "code",
   "execution_count": 26,
   "metadata": {},
   "outputs": [
    {
     "data": {
      "text/plain": [
       "Index(['marketplace', 'customer_id', 'review_id', 'product_id',\n",
       "       'product_parent', 'product_title', 'product_category', 'star_rating',\n",
       "       'helpful_votes', 'total_votes', 'vine', 'verified_purchase',\n",
       "       'review_headline', 'review_body', 'review_date', 'sentiment'],\n",
       "      dtype='object')"
      ]
     },
     "execution_count": 26,
     "metadata": {},
     "output_type": "execute_result"
    }
   ],
   "source": [
    "df.columns"
   ]
  },
  {
   "cell_type": "code",
   "execution_count": 27,
   "metadata": {},
   "outputs": [
    {
     "data": {
      "text/plain": [
       "marketplace          object\n",
       "customer_id          object\n",
       "review_id            object\n",
       "product_id           object\n",
       "product_parent       object\n",
       "product_title        object\n",
       "product_category     object\n",
       "star_rating           int32\n",
       "helpful_votes         int32\n",
       "total_votes           int32\n",
       "vine                 object\n",
       "verified_purchase    object\n",
       "review_headline      object\n",
       "review_body          object\n",
       "review_date          object\n",
       "sentiment            object\n",
       "dtype: object"
      ]
     },
     "execution_count": 27,
     "metadata": {},
     "output_type": "execute_result"
    }
   ],
   "source": [
    "df.dtypes"
   ]
  },
  {
   "cell_type": "code",
   "execution_count": 28,
   "metadata": {},
   "outputs": [
    {
     "data": {
      "text/plain": [
       "array(['POSITIVE', 'NEGATIVE', 'MIXED', 'NEUTRAL'], dtype=object)"
      ]
     },
     "execution_count": 28,
     "metadata": {},
     "output_type": "execute_result"
    }
   ],
   "source": [
    "df['sentiment'].unique()"
   ]
  },
  {
   "cell_type": "code",
   "execution_count": null,
   "metadata": {},
   "outputs": [],
   "source": []
  }
 ],
 "metadata": {
  "kernelspec": {
   "display_name": "Python 3 (ipykernel)",
   "language": "python",
   "name": "python3"
  },
  "language_info": {
   "codemirror_mode": {
    "name": "ipython",
    "version": 3
   },
   "file_extension": ".py",
   "mimetype": "text/x-python",
   "name": "python",
   "nbconvert_exporter": "python",
   "pygments_lexer": "ipython3",
   "version": "3.10.9"
  }
 },
 "nbformat": 4,
 "nbformat_minor": 2
}
