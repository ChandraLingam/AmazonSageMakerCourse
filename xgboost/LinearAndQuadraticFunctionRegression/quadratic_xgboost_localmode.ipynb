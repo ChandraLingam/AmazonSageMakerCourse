{
 "cells": [
  {
   "cell_type": "markdown",
   "metadata": {},
   "source": [
    "<h2>Quadratic Regression Dataset - Linear Regression vs XGBoost</h2>\n",
    "\n",
    "Model is trained with XGBoost installed in notebook instance\n",
    "\n",
    "In the later examples, we will train using SageMaker's XGBoost algorithm.\n",
    "\n",
    "Training on SageMaker takes several minutes (even for simple dataset).  \n",
    "\n",
    "If algorithm is supported on Python, we will try them locally on notebook instance\n",
    "\n",
    "This allows us to quickly learn an algorithm, understand tuning options and then finally train on SageMaker Cloud\n",
    "\n",
    "In this exercise, let's compare XGBoost and Linear Regression for Quadratic regression dataset"
   ]
  },
  {
   "cell_type": "code",
   "execution_count": 1,
   "metadata": {},
   "outputs": [],
   "source": [
    "# Install xgboost in notebook instance.\n",
    "#### Command to install xgboost\n",
    "!pip install xgboost==1.2"
   ]
  },
  {
   "cell_type": "code",
   "execution_count": 2,
   "metadata": {},
   "outputs": [],
   "source": [
    "import sys\n",
    "import numpy as np\n",
    "import pandas as pd\n",
    "import matplotlib.pyplot as plt\n",
    "from sklearn.metrics import mean_squared_error, mean_absolute_error\n",
    "\n",
    "\n",
    "# XGBoost \n",
    "import xgboost as xgb\n",
    "# Linear Regression\n",
    "from sklearn.linear_model import LinearRegression"
   ]
  },
  {
   "cell_type": "code",
   "execution_count": 3,
   "metadata": {},
   "outputs": [],
   "source": [
    "df = pd.read_csv('quadratic_all.csv')"
   ]
  },
  {
   "cell_type": "code",
   "execution_count": 4,
   "metadata": {},
   "outputs": [
    {
     "data": {
      "text/html": [
       "<div>\n",
       "<style scoped>\n",
       "    .dataframe tbody tr th:only-of-type {\n",
       "        vertical-align: middle;\n",
       "    }\n",
       "\n",
       "    .dataframe tbody tr th {\n",
       "        vertical-align: top;\n",
       "    }\n",
       "\n",
       "    .dataframe thead th {\n",
       "        text-align: right;\n",
       "    }\n",
       "</style>\n",
       "<table border=\"1\" class=\"dataframe\">\n",
       "  <thead>\n",
       "    <tr style=\"text-align: right;\">\n",
       "      <th></th>\n",
       "      <th>x</th>\n",
       "      <th>y</th>\n",
       "    </tr>\n",
       "  </thead>\n",
       "  <tbody>\n",
       "    <tr>\n",
       "      <th>0</th>\n",
       "      <td>-20.0</td>\n",
       "      <td>2473.236825</td>\n",
       "    </tr>\n",
       "    <tr>\n",
       "      <th>1</th>\n",
       "      <td>-19.8</td>\n",
       "      <td>2405.673895</td>\n",
       "    </tr>\n",
       "    <tr>\n",
       "      <th>2</th>\n",
       "      <td>-19.6</td>\n",
       "      <td>2444.523136</td>\n",
       "    </tr>\n",
       "    <tr>\n",
       "      <th>3</th>\n",
       "      <td>-19.4</td>\n",
       "      <td>2320.437236</td>\n",
       "    </tr>\n",
       "    <tr>\n",
       "      <th>4</th>\n",
       "      <td>-19.2</td>\n",
       "      <td>2288.088295</td>\n",
       "    </tr>\n",
       "  </tbody>\n",
       "</table>\n",
       "</div>"
      ],
      "text/plain": [
       "      x            y\n",
       "0 -20.0  2473.236825\n",
       "1 -19.8  2405.673895\n",
       "2 -19.6  2444.523136\n",
       "3 -19.4  2320.437236\n",
       "4 -19.2  2288.088295"
      ]
     },
     "execution_count": 4,
     "metadata": {},
     "output_type": "execute_result"
    }
   ],
   "source": [
    "df.head()"
   ]
  },
  {
   "cell_type": "code",
   "execution_count": 5,
   "metadata": {},
   "outputs": [
    {
     "data": {
      "image/png": "[encoded data removed]",
      "text/plain": [
       "<Figure size 432x288 with 1 Axes>"
      ]
     },
     "metadata": {},
     "output_type": "display_data"
    }
   ],
   "source": [
    "plt.plot(df.x,df.y,label='Target')\n",
    "plt.grid(True)\n",
    "plt.xlabel('Input Feature')\n",
    "plt.ylabel('Target')\n",
    "plt.legend()\n",
    "plt.title('Quadratic Regression Dataset')\n",
    "plt.show()"
   ]
  },
  {
   "cell_type": "code",
   "execution_count": 6,
   "metadata": {},
   "outputs": [],
   "source": [
    "train_file = 'quadratic_train.csv'\n",
    "validation_file = 'quadratic_validation.csv'\n",
    "\n",
    "# Specify the column names as the file does not have column header\n",
    "df_train = pd.read_csv(train_file,names=['y','x'])\n",
    "df_validation = pd.read_csv(validation_file,names=['y','x'])"
   ]
  },
  {
   "cell_type": "code",
   "execution_count": 7,
   "metadata": {},
   "outputs": [
    {
     "data": {
      "text/html": [
       "<div>\n",
       "<style scoped>\n",
       "    .dataframe tbody tr th:only-of-type {\n",
       "        vertical-align: middle;\n",
       "    }\n",
       "\n",
       "    .dataframe tbody tr th {\n",
       "        vertical-align: top;\n",
       "    }\n",
       "\n",
       "    .dataframe thead th {\n",
       "        text-align: right;\n",
       "    }\n",
       "</style>\n",
       "<table border=\"1\" class=\"dataframe\">\n",
       "  <thead>\n",
       "    <tr style=\"text-align: right;\">\n",
       "      <th></th>\n",
       "      <th>y</th>\n",
       "      <th>x</th>\n",
       "    </tr>\n",
       "  </thead>\n",
       "  <tbody>\n",
       "    <tr>\n",
       "      <th>0</th>\n",
       "      <td>343.968005</td>\n",
       "      <td>10.8</td>\n",
       "    </tr>\n",
       "    <tr>\n",
       "      <th>1</th>\n",
       "      <td>1585.894405</td>\n",
       "      <td>-15.8</td>\n",
       "    </tr>\n",
       "    <tr>\n",
       "      <th>2</th>\n",
       "      <td>1497.303317</td>\n",
       "      <td>19.6</td>\n",
       "    </tr>\n",
       "    <tr>\n",
       "      <th>3</th>\n",
       "      <td>769.909912</td>\n",
       "      <td>-10.4</td>\n",
       "    </tr>\n",
       "    <tr>\n",
       "      <th>4</th>\n",
       "      <td>1173.230755</td>\n",
       "      <td>-13.2</td>\n",
       "    </tr>\n",
       "  </tbody>\n",
       "</table>\n",
       "</div>"
      ],
      "text/plain": [
       "             y     x\n",
       "0   343.968005  10.8\n",
       "1  1585.894405 -15.8\n",
       "2  1497.303317  19.6\n",
       "3   769.909912 -10.4\n",
       "4  1173.230755 -13.2"
      ]
     },
     "execution_count": 7,
     "metadata": {},
     "output_type": "execute_result"
    }
   ],
   "source": [
    "df_train.head()"
   ]
  },
  {
   "cell_type": "code",
   "execution_count": 8,
   "metadata": {},
   "outputs": [
    {
     "data": {
      "text/html": [
       "<div>\n",
       "<style scoped>\n",
       "    .dataframe tbody tr th:only-of-type {\n",
       "        vertical-align: middle;\n",
       "    }\n",
       "\n",
       "    .dataframe tbody tr th {\n",
       "        vertical-align: top;\n",
       "    }\n",
       "\n",
       "    .dataframe thead th {\n",
       "        text-align: right;\n",
       "    }\n",
       "</style>\n",
       "<table border=\"1\" class=\"dataframe\">\n",
       "  <thead>\n",
       "    <tr style=\"text-align: right;\">\n",
       "      <th></th>\n",
       "      <th>y</th>\n",
       "      <th>x</th>\n",
       "    </tr>\n",
       "  </thead>\n",
       "  <tbody>\n",
       "    <tr>\n",
       "      <th>0</th>\n",
       "      <td>1824.856344</td>\n",
       "      <td>-17.2</td>\n",
       "    </tr>\n",
       "    <tr>\n",
       "      <th>1</th>\n",
       "      <td>16.997917</td>\n",
       "      <td>-1.2</td>\n",
       "    </tr>\n",
       "    <tr>\n",
       "      <th>2</th>\n",
       "      <td>1832.141730</td>\n",
       "      <td>-16.8</td>\n",
       "    </tr>\n",
       "    <tr>\n",
       "      <th>3</th>\n",
       "      <td>1395.206684</td>\n",
       "      <td>19.0</td>\n",
       "    </tr>\n",
       "    <tr>\n",
       "      <th>4</th>\n",
       "      <td>145.840543</td>\n",
       "      <td>-3.0</td>\n",
       "    </tr>\n",
       "  </tbody>\n",
       "</table>\n",
       "</div>"
      ],
      "text/plain": [
       "             y     x\n",
       "0  1824.856344 -17.2\n",
       "1    16.997917  -1.2\n",
       "2  1832.141730 -16.8\n",
       "3  1395.206684  19.0\n",
       "4   145.840543  -3.0"
      ]
     },
     "execution_count": 8,
     "metadata": {},
     "output_type": "execute_result"
    }
   ],
   "source": [
    "df_validation.head()"
   ]
  },
  {
   "cell_type": "code",
   "execution_count": 9,
   "metadata": {},
   "outputs": [
    {
     "data": {
      "image/png": "[encoded data removed]",
      "text/plain": [
       "<Figure size 432x288 with 1 Axes>"
      ]
     },
     "metadata": {},
     "output_type": "display_data"
    }
   ],
   "source": [
    "plt.scatter(df_train.x,df_train.y,label='Training',marker='.')\n",
    "plt.scatter(df_validation.x,df_validation.y,label='Validation',marker='.')\n",
    "plt.grid(True)\n",
    "plt.xlabel('Input Feature')\n",
    "plt.ylabel('Target')\n",
    "plt.title('Quadratic Regression Dataset')\n",
    "plt.legend()\n",
    "plt.show()"
   ]
  },
  {
   "cell_type": "code",
   "execution_count": 10,
   "metadata": {},
   "outputs": [],
   "source": [
    "X_train = df_train.iloc[:,1:] # Features: 1st column onwards \n",
    "y_train = df_train.iloc[:,0].ravel() # Target: 0th column\n",
    "\n",
    "X_validation = df_validation.iloc[:,1:]\n",
    "y_validation = df_validation.iloc[:,0].ravel()"
   ]
  },
  {
   "cell_type": "code",
   "execution_count": 11,
   "metadata": {},
   "outputs": [],
   "source": [
    "# Create an instance of XGBoost Regressor\n",
    "# XGBoost Training Parameter Reference: \n",
    "#   https://github.com/dmlc/xgboost/blob/master/doc/parameter.md\n",
    "regressor = xgb.XGBRegressor()"
   ]
  },
  {
   "cell_type": "code",
   "execution_count": 12,
   "metadata": {},
   "outputs": [
    {
     "data": {
      "text/plain": [
       "XGBRegressor(base_score=0.5, booster='gbtree', colsample_bylevel=1,\n",
       "       colsample_bytree=1, gamma=0, importance_type='gain',\n",
       "       learning_rate=0.1, max_delta_step=0, max_depth=3,\n",
       "       min_child_weight=1, missing=None, n_estimators=100, n_jobs=1,\n",
       "       nthread=None, objective='reg:linear', random_state=0, reg_alpha=0,\n",
       "       reg_lambda=1, scale_pos_weight=1, seed=None, silent=True,\n",
       "       subsample=1)"
      ]
     },
     "execution_count": 12,
     "metadata": {},
     "output_type": "execute_result"
    }
   ],
   "source": [
    "regressor"
   ]
  },
  {
   "cell_type": "code",
   "execution_count": 13,
   "metadata": {},
   "outputs": [
    {
     "name": "stdout",
     "output_type": "stream",
     "text": [
      "[0]\tvalidation_0-rmse:852.082\tvalidation_1-rmse:931.882\n",
      "[1]\tvalidation_0-rmse:776.32\tvalidation_1-rmse:853.857\n",
      "[2]\tvalidation_0-rmse:707.455\tvalidation_1-rmse:779.725\n",
      "[3]\tvalidation_0-rmse:644.955\tvalidation_1-rmse:711.567\n",
      "[4]\tvalidation_0-rmse:587.747\tvalidation_1-rmse:652.779\n",
      "[5]\tvalidation_0-rmse:536.019\tvalidation_1-rmse:595.832\n",
      "[6]\tvalidation_0-rmse:490.469\tvalidation_1-rmse:545.727\n",
      "[7]\tvalidation_0-rmse:447.317\tvalidation_1-rmse:499.978\n",
      "[8]\tvalidation_0-rmse:410.19\tvalidation_1-rmse:460.088\n",
      "[9]\tvalidation_0-rmse:374.376\tvalidation_1-rmse:421.358\n",
      "[10]\tvalidation_0-rmse:342.484\tvalidation_1-rmse:387.917\n",
      "[11]\tvalidation_0-rmse:313.615\tvalidation_1-rmse:357.32\n",
      "[12]\tvalidation_0-rmse:286.623\tvalidation_1-rmse:328.889\n",
      "[13]\tvalidation_0-rmse:263.527\tvalidation_1-rmse:303.867\n",
      "[14]\tvalidation_0-rmse:241.564\tvalidation_1-rmse:280.437\n",
      "[15]\tvalidation_0-rmse:220.987\tvalidation_1-rmse:259.537\n",
      "[16]\tvalidation_0-rmse:202.775\tvalidation_1-rmse:239.52\n",
      "[17]\tvalidation_0-rmse:185.624\tvalidation_1-rmse:221.308\n",
      "[18]\tvalidation_0-rmse:169.985\tvalidation_1-rmse:204.528\n",
      "[19]\tvalidation_0-rmse:155.672\tvalidation_1-rmse:188.946\n",
      "[20]\tvalidation_0-rmse:143.911\tvalidation_1-rmse:176.024\n",
      "[21]\tvalidation_0-rmse:131.927\tvalidation_1-rmse:163.092\n",
      "[22]\tvalidation_0-rmse:122.288\tvalidation_1-rmse:152.472\n",
      "[23]\tvalidation_0-rmse:112.724\tvalidation_1-rmse:142.155\n",
      "[24]\tvalidation_0-rmse:103.577\tvalidation_1-rmse:132.591\n",
      "[25]\tvalidation_0-rmse:96.2028\tvalidation_1-rmse:125.041\n",
      "[26]\tvalidation_0-rmse:89.6539\tvalidation_1-rmse:118.124\n",
      "[27]\tvalidation_0-rmse:83.4567\tvalidation_1-rmse:111.683\n",
      "[28]\tvalidation_0-rmse:77.1489\tvalidation_1-rmse:104.977\n",
      "[29]\tvalidation_0-rmse:71.185\tvalidation_1-rmse:98.6005\n",
      "[30]\tvalidation_0-rmse:66.7935\tvalidation_1-rmse:93.733\n",
      "[31]\tvalidation_0-rmse:62.0247\tvalidation_1-rmse:88.7958\n",
      "[32]\tvalidation_0-rmse:57.5019\tvalidation_1-rmse:84.0843\n",
      "[33]\tvalidation_0-rmse:53.3899\tvalidation_1-rmse:79.9241\n",
      "[34]\tvalidation_0-rmse:50.374\tvalidation_1-rmse:76.5818\n",
      "[35]\tvalidation_0-rmse:47.1971\tvalidation_1-rmse:73.4824\n",
      "[36]\tvalidation_0-rmse:44.197\tvalidation_1-rmse:70.5546\n",
      "[37]\tvalidation_0-rmse:41.3579\tvalidation_1-rmse:67.7262\n",
      "[38]\tvalidation_0-rmse:39.3363\tvalidation_1-rmse:65.4868\n",
      "[39]\tvalidation_0-rmse:37.4231\tvalidation_1-rmse:63.4876\n",
      "[40]\tvalidation_0-rmse:35.4398\tvalidation_1-rmse:61.56\n",
      "[41]\tvalidation_0-rmse:33.4339\tvalidation_1-rmse:59.6057\n",
      "[42]\tvalidation_0-rmse:32.1077\tvalidation_1-rmse:58.001\n",
      "[43]\tvalidation_0-rmse:30.5971\tvalidation_1-rmse:56.4862\n",
      "[44]\tvalidation_0-rmse:29.2108\tvalidation_1-rmse:55.066\n",
      "[45]\tvalidation_0-rmse:27.911\tvalidation_1-rmse:53.6888\n",
      "[46]\tvalidation_0-rmse:26.7067\tvalidation_1-rmse:52.5642\n",
      "[47]\tvalidation_0-rmse:25.9105\tvalidation_1-rmse:51.5398\n",
      "[48]\tvalidation_0-rmse:25.1748\tvalidation_1-rmse:50.5098\n",
      "[49]\tvalidation_0-rmse:24.5456\tvalidation_1-rmse:49.5845\n",
      "[50]\tvalidation_0-rmse:23.7487\tvalidation_1-rmse:48.7455\n",
      "[51]\tvalidation_0-rmse:23.0308\tvalidation_1-rmse:47.9645\n",
      "[52]\tvalidation_0-rmse:22.3726\tvalidation_1-rmse:47.2763\n",
      "[53]\tvalidation_0-rmse:21.9597\tvalidation_1-rmse:46.6645\n",
      "[54]\tvalidation_0-rmse:21.6126\tvalidation_1-rmse:46.2015\n",
      "[55]\tvalidation_0-rmse:21.2343\tvalidation_1-rmse:45.6802\n",
      "[56]\tvalidation_0-rmse:20.7674\tvalidation_1-rmse:45.2139\n",
      "[57]\tvalidation_0-rmse:20.3399\tvalidation_1-rmse:44.7713\n",
      "[58]\tvalidation_0-rmse:19.95\tvalidation_1-rmse:44.3476\n",
      "[59]\tvalidation_0-rmse:19.7295\tvalidation_1-rmse:43.9905\n",
      "[60]\tvalidation_0-rmse:19.5036\tvalidation_1-rmse:43.6282\n",
      "[61]\tvalidation_0-rmse:19.2442\tvalidation_1-rmse:43.3416\n",
      "[62]\tvalidation_0-rmse:18.9807\tvalidation_1-rmse:43.1059\n",
      "[63]\tvalidation_0-rmse:18.7383\tvalidation_1-rmse:42.8711\n",
      "[64]\tvalidation_0-rmse:18.596\tvalidation_1-rmse:42.6286\n",
      "[65]\tvalidation_0-rmse:18.4014\tvalidation_1-rmse:42.4372\n",
      "[66]\tvalidation_0-rmse:18.0438\tvalidation_1-rmse:42.2478\n",
      "[67]\tvalidation_0-rmse:17.9386\tvalidation_1-rmse:42.0598\n",
      "[68]\tvalidation_0-rmse:17.8332\tvalidation_1-rmse:41.8871\n",
      "[69]\tvalidation_0-rmse:17.6853\tvalidation_1-rmse:41.7788\n",
      "[70]\tvalidation_0-rmse:17.3457\tvalidation_1-rmse:41.6835\n",
      "[71]\tvalidation_0-rmse:17.0409\tvalidation_1-rmse:41.5889\n",
      "[72]\tvalidation_0-rmse:16.9435\tvalidation_1-rmse:41.4817\n",
      "[73]\tvalidation_0-rmse:16.859\tvalidation_1-rmse:41.3854\n",
      "[74]\tvalidation_0-rmse:16.8006\tvalidation_1-rmse:41.2934\n",
      "[75]\tvalidation_0-rmse:16.706\tvalidation_1-rmse:41.1916\n",
      "[76]\tvalidation_0-rmse:16.6574\tvalidation_1-rmse:41.1213\n",
      "[77]\tvalidation_0-rmse:16.5384\tvalidation_1-rmse:41.1996\n",
      "[78]\tvalidation_0-rmse:16.4813\tvalidation_1-rmse:41.1091\n",
      "[79]\tvalidation_0-rmse:16.4372\tvalidation_1-rmse:41.0326\n",
      "[80]\tvalidation_0-rmse:16.357\tvalidation_1-rmse:40.998\n",
      "[81]\tvalidation_0-rmse:16.1302\tvalidation_1-rmse:41.0025\n",
      "[82]\tvalidation_0-rmse:16.0942\tvalidation_1-rmse:40.9609\n",
      "[83]\tvalidation_0-rmse:16.0651\tvalidation_1-rmse:40.941\n",
      "[84]\tvalidation_0-rmse:16.0229\tvalidation_1-rmse:40.8927\n",
      "[85]\tvalidation_0-rmse:15.9948\tvalidation_1-rmse:40.8606\n",
      "[86]\tvalidation_0-rmse:15.914\tvalidation_1-rmse:40.8323\n",
      "[87]\tvalidation_0-rmse:15.8566\tvalidation_1-rmse:40.8679\n",
      "[88]\tvalidation_0-rmse:15.8353\tvalidation_1-rmse:40.8268\n",
      "[89]\tvalidation_0-rmse:15.8092\tvalidation_1-rmse:40.7789\n",
      "[90]\tvalidation_0-rmse:15.6231\tvalidation_1-rmse:40.7666\n",
      "[91]\tvalidation_0-rmse:15.4342\tvalidation_1-rmse:40.9844\n",
      "[92]\tvalidation_0-rmse:15.3841\tvalidation_1-rmse:40.9501\n",
      "[93]\tvalidation_0-rmse:15.2451\tvalidation_1-rmse:40.9186\n",
      "[94]\tvalidation_0-rmse:15.1827\tvalidation_1-rmse:40.9995\n",
      "[95]\tvalidation_0-rmse:15.1632\tvalidation_1-rmse:40.9341\n",
      "[96]\tvalidation_0-rmse:15.1479\tvalidation_1-rmse:40.9171\n",
      "[97]\tvalidation_0-rmse:15.1357\tvalidation_1-rmse:40.8928\n",
      "[98]\tvalidation_0-rmse:14.9294\tvalidation_1-rmse:40.9756\n",
      "[99]\tvalidation_0-rmse:14.8071\tvalidation_1-rmse:40.9805\n"
     ]
    },
    {
     "data": {
      "text/plain": [
       "XGBRegressor(base_score=0.5, booster='gbtree', colsample_bylevel=1,\n",
       "       colsample_bytree=1, gamma=0, importance_type='gain',\n",
       "       learning_rate=0.1, max_delta_step=0, max_depth=3,\n",
       "       min_child_weight=1, missing=None, n_estimators=100, n_jobs=1,\n",
       "       nthread=None, objective='reg:linear', random_state=0, reg_alpha=0,\n",
       "       reg_lambda=1, scale_pos_weight=1, seed=None, silent=True,\n",
       "       subsample=1)"
      ]
     },
     "execution_count": 13,
     "metadata": {},
     "output_type": "execute_result"
    }
   ],
   "source": [
    "regressor.fit(X_train,y_train, eval_set = [(X_train, y_train), (X_validation, y_validation)])"
   ]
  },
  {
   "cell_type": "code",
   "execution_count": 14,
   "metadata": {},
   "outputs": [],
   "source": [
    "eval_result = regressor.evals_result()"
   ]
  },
  {
   "cell_type": "code",
   "execution_count": 15,
   "metadata": {},
   "outputs": [],
   "source": [
    "training_rounds = range(len(eval_result['validation_0']['rmse']))"
   ]
  },
  {
   "cell_type": "code",
   "execution_count": 16,
   "metadata": {},
   "outputs": [
    {
     "data": {
      "image/png": "[encoded data removed]",
      "text/plain": [
       "<Figure size 432x288 with 1 Axes>"
      ]
     },
     "metadata": {},
     "output_type": "display_data"
    }
   ],
   "source": [
    "plt.scatter(x=training_rounds,y=eval_result['validation_0']['rmse'],label='Training Error')\n",
    "plt.scatter(x=training_rounds,y=eval_result['validation_1']['rmse'],label='Validation Error')\n",
    "plt.grid(True)\n",
    "plt.xlabel('Iteration')\n",
    "plt.ylabel('RMSE')\n",
    "plt.title('Training Vs Validation Error')\n",
    "plt.legend()\n",
    "plt.show()"
   ]
  },
  {
   "cell_type": "code",
   "execution_count": 17,
   "metadata": {},
   "outputs": [
    {
     "data": {
      "image/png": "[encoded data removed]",
      "text/plain": [
       "<Figure size 432x288 with 1 Axes>"
      ]
     },
     "metadata": {},
     "output_type": "display_data"
    }
   ],
   "source": [
    "xgb.plot_importance(regressor)\n",
    "plt.show()"
   ]
  },
  {
   "cell_type": "markdown",
   "metadata": {},
   "source": [
    "## Validation Dataset Compare Actual and Predicted"
   ]
  },
  {
   "cell_type": "code",
   "execution_count": 18,
   "metadata": {},
   "outputs": [],
   "source": [
    "result = regressor.predict(X_validation)"
   ]
  },
  {
   "cell_type": "code",
   "execution_count": 19,
   "metadata": {},
   "outputs": [
    {
     "data": {
      "text/plain": [
       "array([1816.5542  ,   35.690365, 1816.5542  , 1403.2208  ,  152.6108  ],\n",
       "      dtype=float32)"
      ]
     },
     "execution_count": 19,
     "metadata": {},
     "output_type": "execute_result"
    }
   ],
   "source": [
    "result[:5]"
   ]
  },
  {
   "cell_type": "code",
   "execution_count": 20,
   "metadata": {},
   "outputs": [
    {
     "data": {
      "image/png": "[encoded data removed]",
      "text/plain": [
       "<Figure size 432x288 with 1 Axes>"
      ]
     },
     "metadata": {},
     "output_type": "display_data"
    }
   ],
   "source": [
    "plt.title('XGBoost - Validation Dataset')\n",
    "plt.scatter(df_validation.x,df_validation.y,label='actual',marker='.')\n",
    "plt.scatter(df_validation.x,result,label='predicted',marker='.')\n",
    "plt.grid(True)\n",
    "plt.legend()\n",
    "plt.show()"
   ]
  },
  {
   "cell_type": "code",
   "execution_count": 21,
   "metadata": {},
   "outputs": [
    {
     "name": "stdout",
     "output_type": "stream",
     "text": [
      "XGBoost Algorithm Metrics\n",
      " Mean Squared Error: 1679.40\n",
      " Root Mean Square Error: 40.98\n"
     ]
    }
   ],
   "source": [
    "# RMSE Metrics\n",
    "print('XGBoost Algorithm Metrics')\n",
    "mse = mean_squared_error(df_validation.y,result)\n",
    "print(\" Mean Squared Error: {0:.2f}\".format(mse))\n",
    "print(\" Root Mean Square Error: {0:.2f}\".format(mse**.5))"
   ]
  },
  {
   "cell_type": "code",
   "execution_count": 22,
   "metadata": {},
   "outputs": [
    {
     "data": {
      "image/png": "[encoded data removed]",
      "text/plain": [
       "<Figure size 432x288 with 1 Axes>"
      ]
     },
     "metadata": {},
     "output_type": "display_data"
    }
   ],
   "source": [
    "# Residual\n",
    "# Over prediction and Under Prediction needs to be balanced\n",
    "# Training Data Residuals\n",
    "residuals = df_validation.y - result\n",
    "plt.hist(residuals)\n",
    "plt.grid(True)\n",
    "plt.xlabel('Actual - Predicted')\n",
    "plt.ylabel('Count')\n",
    "plt.title('XGBoost Residual')\n",
    "plt.axvline(color='r')\n",
    "plt.show()"
   ]
  },
  {
   "cell_type": "code",
   "execution_count": 23,
   "metadata": {},
   "outputs": [
    {
     "name": "stdout",
     "output_type": "stream",
     "text": [
      " Under Estimation: 29\n",
      " Over  Estimation: 33\n"
     ]
    }
   ],
   "source": [
    "# Count number of values greater than zero and less than zero\n",
    "value_counts = (residuals > 0).value_counts(sort=False)\n",
    "\n",
    "print(' Under Estimation: {0}'.format(value_counts[True]))\n",
    "print(' Over  Estimation: {0}'.format(value_counts[False]))"
   ]
  },
  {
   "cell_type": "code",
   "execution_count": 24,
   "metadata": {},
   "outputs": [
    {
     "data": {
      "image/png": "[encoded data removed]",
      "text/plain": [
       "<Figure size 432x288 with 1 Axes>"
      ]
     },
     "metadata": {},
     "output_type": "display_data"
    }
   ],
   "source": [
    "# Plot for entire dataset\n",
    "plt.plot(df.x,df.y,label='Target')\n",
    "plt.plot(df.x,regressor.predict(df[['x']]) ,label='Predicted')\n",
    "plt.grid(True)\n",
    "plt.xlabel('Input Feature')\n",
    "plt.ylabel('Target')\n",
    "plt.legend()\n",
    "plt.title('XGBoost')\n",
    "plt.show()"
   ]
  },
  {
   "cell_type": "markdown",
   "metadata": {},
   "source": [
    "## Linear Regression Algorithm"
   ]
  },
  {
   "cell_type": "code",
   "execution_count": 25,
   "metadata": {},
   "outputs": [],
   "source": [
    "lin_regressor = LinearRegression()"
   ]
  },
  {
   "cell_type": "code",
   "execution_count": 26,
   "metadata": {},
   "outputs": [
    {
     "data": {
      "text/plain": [
       "LinearRegression(copy_X=True, fit_intercept=True, n_jobs=None,\n",
       "         normalize=False)"
      ]
     },
     "execution_count": 26,
     "metadata": {},
     "output_type": "execute_result"
    }
   ],
   "source": [
    "lin_regressor.fit(X_train,y_train)"
   ]
  },
  {
   "cell_type": "markdown",
   "metadata": {},
   "source": [
    "Compare Weights assigned by Linear Regression.\n",
    "\n",
    "Original Function: 5*x**2 -23*x + 47 + some noise\n",
    "\n",
    "Linear Regression Function: -15.08 * x + 709.86 \n",
    "\n",
    "Linear Regression Coefficients and Intercepts are not close to actual"
   ]
  },
  {
   "cell_type": "code",
   "execution_count": 27,
   "metadata": {},
   "outputs": [
    {
     "data": {
      "text/plain": [
       "array([-15.07800272])"
      ]
     },
     "execution_count": 27,
     "metadata": {},
     "output_type": "execute_result"
    }
   ],
   "source": [
    "lin_regressor.coef_"
   ]
  },
  {
   "cell_type": "code",
   "execution_count": 28,
   "metadata": {},
   "outputs": [
    {
     "data": {
      "text/plain": [
       "709.8622001903116"
      ]
     },
     "execution_count": 28,
     "metadata": {},
     "output_type": "execute_result"
    }
   ],
   "source": [
    "lin_regressor.intercept_"
   ]
  },
  {
   "cell_type": "code",
   "execution_count": 29,
   "metadata": {},
   "outputs": [],
   "source": [
    "result = lin_regressor.predict(df_validation[['x']])"
   ]
  },
  {
   "cell_type": "code",
   "execution_count": 30,
   "metadata": {},
   "outputs": [
    {
     "data": {
      "image/png": "[encoded data removed]",
      "text/plain": [
       "<Figure size 432x288 with 1 Axes>"
      ]
     },
     "metadata": {},
     "output_type": "display_data"
    }
   ],
   "source": [
    "plt.title('LinearRegression - Validation Dataset')\n",
    "plt.scatter(df_validation.x,df_validation.y,label='actual',marker='.')\n",
    "plt.scatter(df_validation.x,result,label='predicted',marker='.')\n",
    "plt.grid(True)\n",
    "plt.legend()\n",
    "plt.show()"
   ]
  },
  {
   "cell_type": "code",
   "execution_count": 31,
   "metadata": {},
   "outputs": [
    {
     "name": "stdout",
     "output_type": "stream",
     "text": [
      "Linear Regression Metrics\n",
      " Mean Squared Error: 488269.59\n",
      " Root Mean Square Error: 698.76\n"
     ]
    }
   ],
   "source": [
    "# RMSE Metrics\n",
    "print('Linear Regression Metrics')\n",
    "mse = mean_squared_error(df_validation.y,result)\n",
    "print(\" Mean Squared Error: {0:.2f}\".format(mse))\n",
    "print(\" Root Mean Square Error: {0:.2f}\".format(mse**.5))"
   ]
  },
  {
   "cell_type": "code",
   "execution_count": 32,
   "metadata": {},
   "outputs": [
    {
     "data": {
      "image/png": "[encoded data removed]",
      "text/plain": [
       "<Figure size 432x288 with 1 Axes>"
      ]
     },
     "metadata": {},
     "output_type": "display_data"
    }
   ],
   "source": [
    "# Residual\n",
    "# Over prediction and Under Prediction needs to be balanced\n",
    "# Training Data Residuals\n",
    "residuals = df_validation.y - result\n",
    "plt.hist(residuals)\n",
    "plt.grid(True)\n",
    "plt.xlabel('Actual - Predicted')\n",
    "plt.ylabel('Count')\n",
    "plt.title('Linear Regression Residual')\n",
    "plt.axvline(color='r')\n",
    "plt.show()"
   ]
  },
  {
   "cell_type": "code",
   "execution_count": 33,
   "metadata": {},
   "outputs": [
    {
     "name": "stdout",
     "output_type": "stream",
     "text": [
      " Under Estimation: 25\n",
      " Over  Estimation: 37\n"
     ]
    }
   ],
   "source": [
    "# Count number of values greater than zero and less than zero\n",
    "value_counts = (residuals > 0).value_counts(sort=False)\n",
    "\n",
    "print(' Under Estimation: {0}'.format(value_counts[True]))\n",
    "print(' Over  Estimation: {0}'.format(value_counts[False]))"
   ]
  },
  {
   "cell_type": "code",
   "execution_count": 34,
   "metadata": {},
   "outputs": [
    {
     "data": {
      "image/png": "[encoded data removed]",
      "text/plain": [
       "<Figure size 432x288 with 1 Axes>"
      ]
     },
     "metadata": {},
     "output_type": "display_data"
    }
   ],
   "source": [
    "# Plot for entire dataset\n",
    "plt.plot(df.x,df.y,label='Target')\n",
    "plt.plot(df.x,lin_regressor.predict(df[['x']]) ,label='Predicted')\n",
    "plt.grid(True)\n",
    "plt.xlabel('Input Feature')\n",
    "plt.ylabel('Target')\n",
    "plt.legend()\n",
    "plt.title('LinearRegression')\n",
    "plt.show()"
   ]
  },
  {
   "cell_type": "markdown",
   "metadata": {},
   "source": [
    "Linear Regression is showing clear symptoms of under-fitting\n",
    "\n",
    "Input Features are not sufficient to capture complex relationship"
   ]
  },
  {
   "cell_type": "markdown",
   "metadata": {},
   "source": [
    "<h2>Your Turn</h2>\n",
    "You can correct this under-fitting issue by adding relavant features.\n",
    "\n",
    "1. What feature will you add and why?\n",
    "2. Complete the code and Test\n",
    "3. What performance do you see now?"
   ]
  },
  {
   "cell_type": "code",
   "execution_count": 35,
   "metadata": {},
   "outputs": [],
   "source": [
    "# Specify the column names as the file does not have column header\n",
    "df_train = pd.read_csv(train_file,names=['y','x'])\n",
    "df_validation = pd.read_csv(validation_file,names=['y','x'])\n",
    "df = pd.read_csv('quadratic_all.csv')"
   ]
  },
  {
   "cell_type": "markdown",
   "metadata": {},
   "source": [
    "# Add new features "
   ]
  },
  {
   "cell_type": "code",
   "execution_count": 36,
   "metadata": {},
   "outputs": [],
   "source": [
    "# Place holder to add new features to df_train, df_validation and df\n",
    "# if you need help, scroll down to see the answer\n",
    "# Add your code"
   ]
  },
  {
   "cell_type": "code",
   "execution_count": 37,
   "metadata": {},
   "outputs": [],
   "source": [
    "X_train = df_train.iloc[:,1:] # Features: 1st column onwards \n",
    "y_train = df_train.iloc[:,0].ravel() # Target: 0th column\n",
    "\n",
    "X_validation = df_validation.iloc[:,1:]\n",
    "y_validation = df_validation.iloc[:,0].ravel()"
   ]
  },
  {
   "cell_type": "code",
   "execution_count": 38,
   "metadata": {},
   "outputs": [
    {
     "data": {
      "text/plain": [
       "LinearRegression(copy_X=True, fit_intercept=True, n_jobs=None,\n",
       "         normalize=False)"
      ]
     },
     "execution_count": 38,
     "metadata": {},
     "output_type": "execute_result"
    }
   ],
   "source": [
    "lin_regressor.fit(X_train,y_train)"
   ]
  },
  {
   "cell_type": "markdown",
   "metadata": {},
   "source": [
    "Original Function: -23*x + 5*x**2 + 47 + some noise (rewritten with x term first)"
   ]
  },
  {
   "cell_type": "code",
   "execution_count": 39,
   "metadata": {},
   "outputs": [
    {
     "data": {
      "text/plain": [
       "array([-22.98286274,   4.98161803])"
      ]
     },
     "execution_count": 39,
     "metadata": {},
     "output_type": "execute_result"
    }
   ],
   "source": [
    "lin_regressor.coef_"
   ]
  },
  {
   "cell_type": "code",
   "execution_count": 40,
   "metadata": {},
   "outputs": [
    {
     "data": {
      "text/plain": [
       "5.868107552516676"
      ]
     },
     "execution_count": 40,
     "metadata": {},
     "output_type": "execute_result"
    }
   ],
   "source": [
    "lin_regressor.intercept_"
   ]
  },
  {
   "cell_type": "code",
   "execution_count": 41,
   "metadata": {},
   "outputs": [],
   "source": [
    "result = lin_regressor.predict(X_validation)"
   ]
  },
  {
   "cell_type": "code",
   "execution_count": 42,
   "metadata": {},
   "outputs": [
    {
     "data": {
      "image/png": "[encoded data removed]",
      "text/plain": [
       "<Figure size 432x288 with 1 Axes>"
      ]
     },
     "metadata": {},
     "output_type": "display_data"
    }
   ],
   "source": [
    "plt.title('LinearRegression - Validation Dataset')\n",
    "plt.scatter(df_validation.x,df_validation.y,label='actual',marker='.')\n",
    "plt.scatter(df_validation.x,result,label='predicted',marker='.')\n",
    "plt.grid(True)\n",
    "plt.legend()\n",
    "plt.show()"
   ]
  },
  {
   "cell_type": "code",
   "execution_count": 43,
   "metadata": {},
   "outputs": [
    {
     "name": "stdout",
     "output_type": "stream",
     "text": [
      "Linear Regression Metrics\n",
      " Mean Squared Error: 927.22\n",
      " Root Mean Square Error: 30.45\n",
      "***You should see an RMSE score of 30.45 or less\n"
     ]
    }
   ],
   "source": [
    "# RMSE Metrics\n",
    "print('Linear Regression Metrics')\n",
    "mse = mean_squared_error(df_validation.y,result)\n",
    "print(\" Mean Squared Error: {0:.2f}\".format(mse))\n",
    "print(\" Root Mean Square Error: {0:.2f}\".format(mse**.5))\n",
    "\n",
    "print(\"***You should see an RMSE score of 30.45 or less\")"
   ]
  },
  {
   "cell_type": "code",
   "execution_count": 44,
   "metadata": {},
   "outputs": [
    {
     "data": {
      "text/html": [
       "<div>\n",
       "<style scoped>\n",
       "    .dataframe tbody tr th:only-of-type {\n",
       "        vertical-align: middle;\n",
       "    }\n",
       "\n",
       "    .dataframe tbody tr th {\n",
       "        vertical-align: top;\n",
       "    }\n",
       "\n",
       "    .dataframe thead th {\n",
       "        text-align: right;\n",
       "    }\n",
       "</style>\n",
       "<table border=\"1\" class=\"dataframe\">\n",
       "  <thead>\n",
       "    <tr style=\"text-align: right;\">\n",
       "      <th></th>\n",
       "      <th>x</th>\n",
       "      <th>y</th>\n",
       "      <th>x2</th>\n",
       "    </tr>\n",
       "  </thead>\n",
       "  <tbody>\n",
       "    <tr>\n",
       "      <th>0</th>\n",
       "      <td>-20.0</td>\n",
       "      <td>2473.236825</td>\n",
       "      <td>400.00</td>\n",
       "    </tr>\n",
       "    <tr>\n",
       "      <th>1</th>\n",
       "      <td>-19.8</td>\n",
       "      <td>2405.673895</td>\n",
       "      <td>392.04</td>\n",
       "    </tr>\n",
       "    <tr>\n",
       "      <th>2</th>\n",
       "      <td>-19.6</td>\n",
       "      <td>2444.523136</td>\n",
       "      <td>384.16</td>\n",
       "    </tr>\n",
       "    <tr>\n",
       "      <th>3</th>\n",
       "      <td>-19.4</td>\n",
       "      <td>2320.437236</td>\n",
       "      <td>376.36</td>\n",
       "    </tr>\n",
       "    <tr>\n",
       "      <th>4</th>\n",
       "      <td>-19.2</td>\n",
       "      <td>2288.088295</td>\n",
       "      <td>368.64</td>\n",
       "    </tr>\n",
       "  </tbody>\n",
       "</table>\n",
       "</div>"
      ],
      "text/plain": [
       "      x            y      x2\n",
       "0 -20.0  2473.236825  400.00\n",
       "1 -19.8  2405.673895  392.04\n",
       "2 -19.6  2444.523136  384.16\n",
       "3 -19.4  2320.437236  376.36\n",
       "4 -19.2  2288.088295  368.64"
      ]
     },
     "execution_count": 44,
     "metadata": {},
     "output_type": "execute_result"
    }
   ],
   "source": [
    "df.head()"
   ]
  },
  {
   "cell_type": "code",
   "execution_count": 45,
   "metadata": {},
   "outputs": [
    {
     "data": {
      "image/png": "[encoded data removed]",
      "text/plain": [
       "<Figure size 432x288 with 1 Axes>"
      ]
     },
     "metadata": {},
     "output_type": "display_data"
    }
   ],
   "source": [
    "# Plot for entire dataset\n",
    "plt.plot(df.x,df.y,label='Target')\n",
    "plt.plot(df.x,lin_regressor.predict(df[['x','x2']]) ,label='Predicted')\n",
    "plt.grid(True)\n",
    "plt.xlabel('Input Feature')\n",
    "plt.ylabel('Target')\n",
    "plt.legend()\n",
    "plt.title('LinearRegression')\n",
    "plt.show()"
   ]
  },
  {
   "cell_type": "markdown",
   "metadata": {},
   "source": [
    "## Solution for under-fitting\n",
    "\n",
    "add a new X**2 term to the dataframe\n",
    "\n",
    "syntax:\n",
    "\n",
    "df_train['x2'] = df_train['x']**2\n",
    "\n",
    "df_validation['x2'] = df_validation['x']**2\n",
    "\n",
    "df['x2'] = df['x']**2"
   ]
  },
  {
   "cell_type": "markdown",
   "metadata": {},
   "source": [
    "### Tree Based Algorithms have a lower bound and upper bound for predicted values"
   ]
  },
  {
   "cell_type": "code",
   "execution_count": 46,
   "metadata": {},
   "outputs": [],
   "source": [
    "# True Function\n",
    "def quad_func (x):\n",
    "    return 5*x**2 -23*x + 47"
   ]
  },
  {
   "cell_type": "code",
   "execution_count": 47,
   "metadata": {},
   "outputs": [],
   "source": [
    "# X is outside range of training samples\n",
    "# New Feature: Adding X^2 term\n",
    "\n",
    "X = np.array([-100,-25,25,1000,5000])\n",
    "y = quad_func(X)\n",
    "df_tmp = pd.DataFrame({'x':X,'y':y,'x2':X**2})\n",
    "df_tmp['xgboost']=regressor.predict(df_tmp[['x']])\n",
    "lin_regressor.fit(X = df_tmp[['x','x2']], y = y)\n",
    "df_tmp['linear']=lin_regressor.predict(df_tmp[['x','x2']])"
   ]
  },
  {
   "cell_type": "code",
   "execution_count": 48,
   "metadata": {},
   "outputs": [
    {
     "data": {
      "text/html": [
       "<div>\n",
       "<style scoped>\n",
       "    .dataframe tbody tr th:only-of-type {\n",
       "        vertical-align: middle;\n",
       "    }\n",
       "\n",
       "    .dataframe tbody tr th {\n",
       "        vertical-align: top;\n",
       "    }\n",
       "\n",
       "    .dataframe thead th {\n",
       "        text-align: right;\n",
       "    }\n",
       "</style>\n",
       "<table border=\"1\" class=\"dataframe\">\n",
       "  <thead>\n",
       "    <tr style=\"text-align: right;\">\n",
       "      <th></th>\n",
       "      <th>x</th>\n",
       "      <th>y</th>\n",
       "      <th>x2</th>\n",
       "      <th>xgboost</th>\n",
       "      <th>linear</th>\n",
       "    </tr>\n",
       "  </thead>\n",
       "  <tbody>\n",
       "    <tr>\n",
       "      <th>0</th>\n",
       "      <td>-100</td>\n",
       "      <td>52347</td>\n",
       "      <td>10000</td>\n",
       "      <td>2394.655029</td>\n",
       "      <td>5.212033e+04</td>\n",
       "    </tr>\n",
       "    <tr>\n",
       "      <th>1</th>\n",
       "      <td>-25</td>\n",
       "      <td>3747</td>\n",
       "      <td>625</td>\n",
       "      <td>2394.655029</td>\n",
       "      <td>3.693951e+03</td>\n",
       "    </tr>\n",
       "    <tr>\n",
       "      <th>2</th>\n",
       "      <td>25</td>\n",
       "      <td>2597</td>\n",
       "      <td>625</td>\n",
       "      <td>1679.101318</td>\n",
       "      <td>2.544808e+03</td>\n",
       "    </tr>\n",
       "    <tr>\n",
       "      <th>3</th>\n",
       "      <td>1000</td>\n",
       "      <td>4977047</td>\n",
       "      <td>1000000</td>\n",
       "      <td>1679.101318</td>\n",
       "      <td>4.958641e+06</td>\n",
       "    </tr>\n",
       "    <tr>\n",
       "      <th>4</th>\n",
       "      <td>5000</td>\n",
       "      <td>124885047</td>\n",
       "      <td>25000000</td>\n",
       "      <td>1679.101318</td>\n",
       "      <td>1.244255e+08</td>\n",
       "    </tr>\n",
       "  </tbody>\n",
       "</table>\n",
       "</div>"
      ],
      "text/plain": [
       "      x          y        x2      xgboost        linear\n",
       "0  -100      52347     10000  2394.655029  5.212033e+04\n",
       "1   -25       3747       625  2394.655029  3.693951e+03\n",
       "2    25       2597       625  1679.101318  2.544808e+03\n",
       "3  1000    4977047   1000000  1679.101318  4.958641e+06\n",
       "4  5000  124885047  25000000  1679.101318  1.244255e+08"
      ]
     },
     "execution_count": 48,
     "metadata": {},
     "output_type": "execute_result"
    }
   ],
   "source": [
    "df_tmp"
   ]
  },
  {
   "cell_type": "code",
   "execution_count": 49,
   "metadata": {},
   "outputs": [
    {
     "data": {
      "image/png": "[encoded data removed]",
      "text/plain": [
       "<Figure size 432x288 with 1 Axes>"
      ]
     },
     "metadata": {},
     "output_type": "display_data"
    }
   ],
   "source": [
    "plt.scatter(df_tmp.x,df_tmp.y,label='Actual',color='r')\n",
    "plt.plot(df_tmp.x,df_tmp.linear,label='LinearRegression')\n",
    "plt.plot(df_tmp.x,df_tmp.xgboost,label='XGBoost')\n",
    "plt.legend()\n",
    "plt.xlabel('X')\n",
    "plt.ylabel('y')\n",
    "plt.title('Input Outside Range')\n",
    "plt.show()"
   ]
  },
  {
   "cell_type": "code",
   "execution_count": 50,
   "metadata": {},
   "outputs": [],
   "source": [
    "# X is inside range of training samples\n",
    "X = np.array([-15,-12,-5,0,1,3,5,7,9,11,15,18])\n",
    "y = quad_func(X)\n",
    "df_tmp = pd.DataFrame({'x':X,'y':y,'x2':X**2})\n",
    "df_tmp['xgboost']=regressor.predict(df_tmp[['x']])\n",
    "df_tmp['linear']=lin_regressor.predict(df_tmp[['x','x2']])"
   ]
  },
  {
   "cell_type": "code",
   "execution_count": 51,
   "metadata": {},
   "outputs": [
    {
     "data": {
      "text/html": [
       "<div>\n",
       "<style scoped>\n",
       "    .dataframe tbody tr th:only-of-type {\n",
       "        vertical-align: middle;\n",
       "    }\n",
       "\n",
       "    .dataframe tbody tr th {\n",
       "        vertical-align: top;\n",
       "    }\n",
       "\n",
       "    .dataframe thead th {\n",
       "        text-align: right;\n",
       "    }\n",
       "</style>\n",
       "<table border=\"1\" class=\"dataframe\">\n",
       "  <thead>\n",
       "    <tr style=\"text-align: right;\">\n",
       "      <th></th>\n",
       "      <th>x</th>\n",
       "      <th>y</th>\n",
       "      <th>x2</th>\n",
       "      <th>xgboost</th>\n",
       "      <th>linear</th>\n",
       "    </tr>\n",
       "  </thead>\n",
       "  <tbody>\n",
       "    <tr>\n",
       "      <th>0</th>\n",
       "      <td>-15</td>\n",
       "      <td>1517</td>\n",
       "      <td>225</td>\n",
       "      <td>1494.449585</td>\n",
       "      <td>1471.475106</td>\n",
       "    </tr>\n",
       "    <tr>\n",
       "      <th>1</th>\n",
       "      <td>-12</td>\n",
       "      <td>1043</td>\n",
       "      <td>144</td>\n",
       "      <td>991.589172</td>\n",
       "      <td>999.015457</td>\n",
       "    </tr>\n",
       "    <tr>\n",
       "      <th>2</th>\n",
       "      <td>-5</td>\n",
       "      <td>287</td>\n",
       "      <td>25</td>\n",
       "      <td>224.711700</td>\n",
       "      <td>245.322872</td>\n",
       "    </tr>\n",
       "    <tr>\n",
       "      <th>3</th>\n",
       "      <td>0</td>\n",
       "      <td>47</td>\n",
       "      <td>0</td>\n",
       "      <td>0.857939</td>\n",
       "      <td>5.868108</td>\n",
       "    </tr>\n",
       "    <tr>\n",
       "      <th>4</th>\n",
       "      <td>1</td>\n",
       "      <td>29</td>\n",
       "      <td>1</td>\n",
       "      <td>-2.623439</td>\n",
       "      <td>-12.133137</td>\n",
       "    </tr>\n",
       "    <tr>\n",
       "      <th>5</th>\n",
       "      <td>3</td>\n",
       "      <td>23</td>\n",
       "      <td>9</td>\n",
       "      <td>-42.854942</td>\n",
       "      <td>-18.245918</td>\n",
       "    </tr>\n",
       "    <tr>\n",
       "      <th>6</th>\n",
       "      <td>5</td>\n",
       "      <td>57</td>\n",
       "      <td>25</td>\n",
       "      <td>-12.994375</td>\n",
       "      <td>15.494245</td>\n",
       "    </tr>\n",
       "    <tr>\n",
       "      <th>7</th>\n",
       "      <td>7</td>\n",
       "      <td>131</td>\n",
       "      <td>49</td>\n",
       "      <td>144.216553</td>\n",
       "      <td>89.087352</td>\n",
       "    </tr>\n",
       "    <tr>\n",
       "      <th>8</th>\n",
       "      <td>9</td>\n",
       "      <td>245</td>\n",
       "      <td>81</td>\n",
       "      <td>220.426697</td>\n",
       "      <td>202.533404</td>\n",
       "    </tr>\n",
       "    <tr>\n",
       "      <th>9</th>\n",
       "      <td>11</td>\n",
       "      <td>399</td>\n",
       "      <td>121</td>\n",
       "      <td>416.157166</td>\n",
       "      <td>355.832399</td>\n",
       "    </tr>\n",
       "    <tr>\n",
       "      <th>10</th>\n",
       "      <td>15</td>\n",
       "      <td>827</td>\n",
       "      <td>225</td>\n",
       "      <td>789.814148</td>\n",
       "      <td>781.989224</td>\n",
       "    </tr>\n",
       "    <tr>\n",
       "      <th>11</th>\n",
       "      <td>18</td>\n",
       "      <td>1253</td>\n",
       "      <td>324</td>\n",
       "      <td>1270.905273</td>\n",
       "      <td>1206.220821</td>\n",
       "    </tr>\n",
       "  </tbody>\n",
       "</table>\n",
       "</div>"
      ],
      "text/plain": [
       "     x     y   x2      xgboost       linear\n",
       "0  -15  1517  225  1494.449585  1471.475106\n",
       "1  -12  1043  144   991.589172   999.015457\n",
       "2   -5   287   25   224.711700   245.322872\n",
       "3    0    47    0     0.857939     5.868108\n",
       "4    1    29    1    -2.623439   -12.133137\n",
       "5    3    23    9   -42.854942   -18.245918\n",
       "6    5    57   25   -12.994375    15.494245\n",
       "7    7   131   49   144.216553    89.087352\n",
       "8    9   245   81   220.426697   202.533404\n",
       "9   11   399  121   416.157166   355.832399\n",
       "10  15   827  225   789.814148   781.989224\n",
       "11  18  1253  324  1270.905273  1206.220821"
      ]
     },
     "execution_count": 51,
     "metadata": {},
     "output_type": "execute_result"
    }
   ],
   "source": [
    "df_tmp"
   ]
  },
  {
   "cell_type": "code",
   "execution_count": 52,
   "metadata": {},
   "outputs": [
    {
     "data": {
      "image/png": "[encoded data removed]",
      "text/plain": [
       "<Figure size 432x288 with 1 Axes>"
      ]
     },
     "metadata": {},
     "output_type": "display_data"
    }
   ],
   "source": [
    "# XGBoost Predictions have an upper bound and lower bound\n",
    "# Linear Regression Extrapolates\n",
    "plt.scatter(df_tmp.x,df_tmp.y,label='Actual',color='r')\n",
    "plt.plot(df_tmp.x,df_tmp.linear,label='LinearRegression')\n",
    "plt.plot(df_tmp.x,df_tmp.xgboost,label='XGBoost')\n",
    "plt.legend()\n",
    "plt.xlabel('X')\n",
    "plt.ylabel('y')\n",
    "plt.title('Input within range')\n",
    "plt.show()"
   ]
  },
  {
   "cell_type": "markdown",
   "metadata": {},
   "source": [
    "<h2>Summary</h2>"
   ]
  },
  {
   "cell_type": "markdown",
   "metadata": {},
   "source": [
    "1. In this exercise, we compared performance of XGBoost model and Linear Regression on a quadratic dataset\n",
    "2. The relationship between input feature and target was non-linear.\n",
    "3. XGBoost handled it pretty well; whereas, linear regression was under-fitting\n",
    "4. To correct the issue, we had to add additional features for linear regression\n",
    "5. With this change, linear regression performed much better\n",
    "\n",
    "XGBoost can detect patterns involving non-linear relationship; whereas, algorithms like linear regression may need complex feature engineering"
   ]
  }
 ],
 "metadata": {
  "kernelspec": {
   "display_name": "conda_python3",
   "language": "python",
   "name": "conda_python3"
  },
  "language_info": {
   "codemirror_mode": {
    "name": "ipython",
    "version": 3
   },
   "file_extension": ".py",
   "mimetype": "text/x-python",
   "name": "python",
   "nbconvert_exporter": "python",
   "pygments_lexer": "ipython3",
   "version": "3.6.13"
  }
 },
 "nbformat": 4,
 "nbformat_minor": 2
}
